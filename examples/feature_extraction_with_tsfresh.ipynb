{
 "cells": [
  {
   "cell_type": "markdown",
   "metadata": {},
   "source": [
    "# Feature extraction with tsfresh transformer\n",
    "\n",
    "In this tutorial, we show how you can use sktime with [tsfresh](https://tsfresh.readthedocs.io) to first extract features from time series, so that we can then use any scikit-learn estimator.\n",
    "\n",
    "## Preliminaries\n",
    "You have to install tsfresh if you haven't already. To install it, uncomment the cell below:"
   ]
  },
  {
   "cell_type": "code",
   "execution_count": 1,
   "metadata": {},
   "outputs": [],
   "source": [
    "# !pip install --upgrade tsfresh"
   ]
  },
  {
   "cell_type": "code",
   "execution_count": 2,
   "metadata": {},
   "outputs": [],
   "source": [
    "import numpy as np\n",
    "from sklearn.model_selection import train_test_split\n",
    "from sklearn.ensemble import RandomForestClassifier\n",
    "from sklearn.pipeline import make_pipeline\n",
    "from sktime.datasets import load_basic_motions\n",
    "from sktime.datasets import load_arrow_head\n",
    "from sktime.transformers.series_as_features.summarize import \\\n",
    "    TSFreshFeatureExtractor"
   ]
  },
  {
   "cell_type": "markdown",
   "metadata": {},
   "source": [
    "## Univariate time series classification data\n",
    "\n",
    "For more details on the data set, see the [univariate time series classification notebook](https://github.com/alan-turing-institute/sktime/blob/master/examples/02_classification_univariate.ipynb)."
   ]
  },
  {
   "cell_type": "code",
   "execution_count": 3,
   "metadata": {},
   "outputs": [
    {
     "name": "stdout",
     "output_type": "stream",
     "text": [
      "(158, 1) (158,) (53, 1) (53,)\n"
     ]
    }
   ],
   "source": [
    "X, y = load_arrow_head(return_X_y=True)\n",
    "X_train, X_test, y_train, y_test = train_test_split(X, y)\n",
    "print(X_train.shape, y_train.shape, X_test.shape, y_test.shape)"
   ]
  },
  {
   "cell_type": "code",
   "execution_count": 4,
   "metadata": {
    "jupyter": {
     "outputs_hidden": false
    },
    "pycharm": {
     "name": "#%%\n"
    }
   },
   "outputs": [
    {
     "data": {
      "text/html": [
       "<div>\n",
       "<style scoped>\n",
       "    .dataframe tbody tr th:only-of-type {\n",
       "        vertical-align: middle;\n",
       "    }\n",
       "\n",
       "    .dataframe tbody tr th {\n",
       "        vertical-align: top;\n",
       "    }\n",
       "\n",
       "    .dataframe thead th {\n",
       "        text-align: right;\n",
       "    }\n",
       "</style>\n",
       "<table border=\"1\" class=\"dataframe\">\n",
       "  <thead>\n",
       "    <tr style=\"text-align: right;\">\n",
       "      <th></th>\n",
       "      <th>dim_0</th>\n",
       "    </tr>\n",
       "  </thead>\n",
       "  <tbody>\n",
       "    <tr>\n",
       "      <th>169</th>\n",
       "      <td>0     -1.7767\n",
       "1     -1.7786\n",
       "2     -1.7501\n",
       "3   ...</td>\n",
       "    </tr>\n",
       "    <tr>\n",
       "      <th>26</th>\n",
       "      <td>0     -2.2551\n",
       "1     -2.2337\n",
       "2     -2.2292\n",
       "3   ...</td>\n",
       "    </tr>\n",
       "    <tr>\n",
       "      <th>4</th>\n",
       "      <td>0     -1.9591\n",
       "1     -1.9749\n",
       "2     -1.9714\n",
       "3   ...</td>\n",
       "    </tr>\n",
       "    <tr>\n",
       "      <th>116</th>\n",
       "      <td>0     -2.2003\n",
       "1     -2.1845\n",
       "2     -2.1533\n",
       "3   ...</td>\n",
       "    </tr>\n",
       "    <tr>\n",
       "      <th>21</th>\n",
       "      <td>0     -1.9888\n",
       "1     -2.0247\n",
       "2     -1.9262\n",
       "3   ...</td>\n",
       "    </tr>\n",
       "  </tbody>\n",
       "</table>\n",
       "</div>"
      ],
      "text/plain": [
       "                                                 dim_0\n",
       "169  0     -1.7767\n",
       "1     -1.7786\n",
       "2     -1.7501\n",
       "3   ...\n",
       "26   0     -2.2551\n",
       "1     -2.2337\n",
       "2     -2.2292\n",
       "3   ...\n",
       "4    0     -1.9591\n",
       "1     -1.9749\n",
       "2     -1.9714\n",
       "3   ...\n",
       "116  0     -2.2003\n",
       "1     -2.1845\n",
       "2     -2.1533\n",
       "3   ...\n",
       "21   0     -1.9888\n",
       "1     -2.0247\n",
       "2     -1.9262\n",
       "3   ..."
      ]
     },
     "execution_count": 4,
     "metadata": {},
     "output_type": "execute_result"
    }
   ],
   "source": [
    "X_train.head()"
   ]
  },
  {
   "cell_type": "code",
   "execution_count": 5,
   "metadata": {},
   "outputs": [
    {
     "data": {
      "text/plain": [
       "array(['0', '1', '2'], dtype=object)"
      ]
     },
     "execution_count": 5,
     "metadata": {},
     "output_type": "execute_result"
    }
   ],
   "source": [
    "# binary classification task\n",
    "np.unique(y_train)"
   ]
  },
  {
   "cell_type": "markdown",
   "metadata": {},
   "source": [
    "## Using tsfresh to extract features"
   ]
  },
  {
   "cell_type": "code",
   "execution_count": 6,
   "metadata": {},
   "outputs": [
    {
     "name": "stderr",
     "output_type": "stream",
     "text": [
      "/Users/travis/build/alan-turing-institute/sktime/sktime/transformers/series_as_features/summarize/_tsfresh.py:150: UserWarning: Found non-unique index, replaced with unique index.\n",
      "  warn(\"Found non-unique index, replaced with unique index.\")\n"
     ]
    },
    {
     "name": "stderr",
     "output_type": "stream",
     "text": [
      "\r",
      "Feature Extraction:   0%|          | 0/5 [00:00<?, ?it/s]"
     ]
    },
    {
     "name": "stderr",
     "output_type": "stream",
     "text": [
      "\r",
      "Feature Extraction:  20%|██        | 1/5 [00:04<00:19,  4.76s/it]"
     ]
    },
    {
     "name": "stderr",
     "output_type": "stream",
     "text": [
      "\r",
      "Feature Extraction:  40%|████      | 2/5 [00:09<00:14,  4.72s/it]"
     ]
    },
    {
     "name": "stderr",
     "output_type": "stream",
     "text": [
      "\r",
      "Feature Extraction:  60%|██████    | 3/5 [00:14<00:09,  4.73s/it]"
     ]
    },
    {
     "name": "stderr",
     "output_type": "stream",
     "text": [
      "\r",
      "Feature Extraction:  80%|████████  | 4/5 [00:18<00:04,  4.69s/it]"
     ]
    },
    {
     "name": "stderr",
     "output_type": "stream",
     "text": [
      "\r",
      "Feature Extraction: 100%|██████████| 5/5 [00:23<00:00,  4.57s/it]"
     ]
    },
    {
     "name": "stderr",
     "output_type": "stream",
     "text": [
      "\r",
      "Feature Extraction: 100%|██████████| 5/5 [00:23<00:00,  4.61s/it]"
     ]
    },
    {
     "name": "stderr",
     "output_type": "stream",
     "text": [
      "\n"
     ]
    },
    {
     "data": {
      "text/html": [
       "<div>\n",
       "<style scoped>\n",
       "    .dataframe tbody tr th:only-of-type {\n",
       "        vertical-align: middle;\n",
       "    }\n",
       "\n",
       "    .dataframe tbody tr th {\n",
       "        vertical-align: top;\n",
       "    }\n",
       "\n",
       "    .dataframe thead th {\n",
       "        text-align: right;\n",
       "    }\n",
       "</style>\n",
       "<table border=\"1\" class=\"dataframe\">\n",
       "  <thead>\n",
       "    <tr style=\"text-align: right;\">\n",
       "      <th>variable</th>\n",
       "      <th>dim_0__abs_energy</th>\n",
       "      <th>dim_0__absolute_sum_of_changes</th>\n",
       "      <th>dim_0__agg_autocorrelation__f_agg_\"mean\"__maxlag_40</th>\n",
       "      <th>dim_0__agg_autocorrelation__f_agg_\"median\"__maxlag_40</th>\n",
       "      <th>dim_0__agg_autocorrelation__f_agg_\"var\"__maxlag_40</th>\n",
       "      <th>dim_0__agg_linear_trend__attr_\"intercept\"__chunk_len_10__f_agg_\"max\"</th>\n",
       "      <th>dim_0__agg_linear_trend__attr_\"intercept\"__chunk_len_10__f_agg_\"mean\"</th>\n",
       "      <th>dim_0__agg_linear_trend__attr_\"intercept\"__chunk_len_10__f_agg_\"min\"</th>\n",
       "      <th>dim_0__agg_linear_trend__attr_\"intercept\"__chunk_len_10__f_agg_\"var\"</th>\n",
       "      <th>dim_0__agg_linear_trend__attr_\"intercept\"__chunk_len_50__f_agg_\"max\"</th>\n",
       "      <th>...</th>\n",
       "      <th>dim_0__symmetry_looking__r_0.9500000000000001</th>\n",
       "      <th>dim_0__time_reversal_asymmetry_statistic__lag_1</th>\n",
       "      <th>dim_0__time_reversal_asymmetry_statistic__lag_2</th>\n",
       "      <th>dim_0__time_reversal_asymmetry_statistic__lag_3</th>\n",
       "      <th>dim_0__value_count__value_-1</th>\n",
       "      <th>dim_0__value_count__value_0</th>\n",
       "      <th>dim_0__value_count__value_1</th>\n",
       "      <th>dim_0__variance</th>\n",
       "      <th>dim_0__variance_larger_than_standard_deviation</th>\n",
       "      <th>dim_0__variation_coefficient</th>\n",
       "    </tr>\n",
       "  </thead>\n",
       "  <tbody>\n",
       "    <tr>\n",
       "      <th>0</th>\n",
       "      <td>250.000845</td>\n",
       "      <td>82.015380</td>\n",
       "      <td>0.268790</td>\n",
       "      <td>0.287141</td>\n",
       "      <td>0.083965</td>\n",
       "      <td>-0.285361</td>\n",
       "      <td>-0.523476</td>\n",
       "      <td>-1.193420</td>\n",
       "      <td>0.100949</td>\n",
       "      <td>0.647236</td>\n",
       "      <td>...</td>\n",
       "      <td>1.0</td>\n",
       "      <td>0.049885</td>\n",
       "      <td>0.008217</td>\n",
       "      <td>-0.016709</td>\n",
       "      <td>0.0</td>\n",
       "      <td>0.0</td>\n",
       "      <td>0.0</td>\n",
       "      <td>0.996019</td>\n",
       "      <td>0.0</td>\n",
       "      <td>1.926922e+07</td>\n",
       "    </tr>\n",
       "    <tr>\n",
       "      <th>1</th>\n",
       "      <td>250.001216</td>\n",
       "      <td>95.884174</td>\n",
       "      <td>0.097718</td>\n",
       "      <td>0.038851</td>\n",
       "      <td>0.080948</td>\n",
       "      <td>-0.064405</td>\n",
       "      <td>-0.425036</td>\n",
       "      <td>-1.225422</td>\n",
       "      <td>0.150297</td>\n",
       "      <td>0.733005</td>\n",
       "      <td>...</td>\n",
       "      <td>1.0</td>\n",
       "      <td>0.059773</td>\n",
       "      <td>-0.007259</td>\n",
       "      <td>-0.078893</td>\n",
       "      <td>0.0</td>\n",
       "      <td>0.0</td>\n",
       "      <td>0.0</td>\n",
       "      <td>0.996021</td>\n",
       "      <td>0.0</td>\n",
       "      <td>-4.053400e+05</td>\n",
       "    </tr>\n",
       "    <tr>\n",
       "      <th>2</th>\n",
       "      <td>250.000892</td>\n",
       "      <td>91.195748</td>\n",
       "      <td>0.099214</td>\n",
       "      <td>0.114457</td>\n",
       "      <td>0.125040</td>\n",
       "      <td>0.237061</td>\n",
       "      <td>-0.172878</td>\n",
       "      <td>-1.220586</td>\n",
       "      <td>0.215094</td>\n",
       "      <td>1.169208</td>\n",
       "      <td>...</td>\n",
       "      <td>1.0</td>\n",
       "      <td>0.072462</td>\n",
       "      <td>0.028787</td>\n",
       "      <td>0.005270</td>\n",
       "      <td>0.0</td>\n",
       "      <td>0.0</td>\n",
       "      <td>0.0</td>\n",
       "      <td>0.996019</td>\n",
       "      <td>0.0</td>\n",
       "      <td>1.346774e+06</td>\n",
       "    </tr>\n",
       "    <tr>\n",
       "      <th>3</th>\n",
       "      <td>249.999631</td>\n",
       "      <td>80.635708</td>\n",
       "      <td>0.291140</td>\n",
       "      <td>0.297845</td>\n",
       "      <td>0.060626</td>\n",
       "      <td>-0.280899</td>\n",
       "      <td>-0.603555</td>\n",
       "      <td>-0.977783</td>\n",
       "      <td>0.073818</td>\n",
       "      <td>0.483202</td>\n",
       "      <td>...</td>\n",
       "      <td>1.0</td>\n",
       "      <td>0.054177</td>\n",
       "      <td>-0.004676</td>\n",
       "      <td>-0.045644</td>\n",
       "      <td>0.0</td>\n",
       "      <td>0.0</td>\n",
       "      <td>0.0</td>\n",
       "      <td>0.996014</td>\n",
       "      <td>0.0</td>\n",
       "      <td>5.009986e+06</td>\n",
       "    </tr>\n",
       "    <tr>\n",
       "      <th>4</th>\n",
       "      <td>250.000612</td>\n",
       "      <td>85.359880</td>\n",
       "      <td>0.198903</td>\n",
       "      <td>0.212676</td>\n",
       "      <td>0.099692</td>\n",
       "      <td>0.084713</td>\n",
       "      <td>-0.273434</td>\n",
       "      <td>-1.065010</td>\n",
       "      <td>0.171719</td>\n",
       "      <td>1.103542</td>\n",
       "      <td>...</td>\n",
       "      <td>1.0</td>\n",
       "      <td>0.080865</td>\n",
       "      <td>0.025874</td>\n",
       "      <td>-0.004200</td>\n",
       "      <td>0.0</td>\n",
       "      <td>0.0</td>\n",
       "      <td>0.0</td>\n",
       "      <td>0.996018</td>\n",
       "      <td>0.0</td>\n",
       "      <td>1.972439e+06</td>\n",
       "    </tr>\n",
       "  </tbody>\n",
       "</table>\n",
       "<p>5 rows × 757 columns</p>\n",
       "</div>"
      ],
      "text/plain": [
       "variable  dim_0__abs_energy  dim_0__absolute_sum_of_changes  \\\n",
       "0                250.000845                       82.015380   \n",
       "1                250.001216                       95.884174   \n",
       "2                250.000892                       91.195748   \n",
       "3                249.999631                       80.635708   \n",
       "4                250.000612                       85.359880   \n",
       "\n",
       "variable  dim_0__agg_autocorrelation__f_agg_\"mean\"__maxlag_40  \\\n",
       "0                                                  0.268790     \n",
       "1                                                  0.097718     \n",
       "2                                                  0.099214     \n",
       "3                                                  0.291140     \n",
       "4                                                  0.198903     \n",
       "\n",
       "variable  dim_0__agg_autocorrelation__f_agg_\"median\"__maxlag_40  \\\n",
       "0                                                  0.287141       \n",
       "1                                                  0.038851       \n",
       "2                                                  0.114457       \n",
       "3                                                  0.297845       \n",
       "4                                                  0.212676       \n",
       "\n",
       "variable  dim_0__agg_autocorrelation__f_agg_\"var\"__maxlag_40  \\\n",
       "0                                                  0.083965    \n",
       "1                                                  0.080948    \n",
       "2                                                  0.125040    \n",
       "3                                                  0.060626    \n",
       "4                                                  0.099692    \n",
       "\n",
       "variable  dim_0__agg_linear_trend__attr_\"intercept\"__chunk_len_10__f_agg_\"max\"  \\\n",
       "0                                                 -0.285361                      \n",
       "1                                                 -0.064405                      \n",
       "2                                                  0.237061                      \n",
       "3                                                 -0.280899                      \n",
       "4                                                  0.084713                      \n",
       "\n",
       "variable  dim_0__agg_linear_trend__attr_\"intercept\"__chunk_len_10__f_agg_\"mean\"  \\\n",
       "0                                                 -0.523476                       \n",
       "1                                                 -0.425036                       \n",
       "2                                                 -0.172878                       \n",
       "3                                                 -0.603555                       \n",
       "4                                                 -0.273434                       \n",
       "\n",
       "variable  dim_0__agg_linear_trend__attr_\"intercept\"__chunk_len_10__f_agg_\"min\"  \\\n",
       "0                                                 -1.193420                      \n",
       "1                                                 -1.225422                      \n",
       "2                                                 -1.220586                      \n",
       "3                                                 -0.977783                      \n",
       "4                                                 -1.065010                      \n",
       "\n",
       "variable  dim_0__agg_linear_trend__attr_\"intercept\"__chunk_len_10__f_agg_\"var\"  \\\n",
       "0                                                  0.100949                      \n",
       "1                                                  0.150297                      \n",
       "2                                                  0.215094                      \n",
       "3                                                  0.073818                      \n",
       "4                                                  0.171719                      \n",
       "\n",
       "variable  dim_0__agg_linear_trend__attr_\"intercept\"__chunk_len_50__f_agg_\"max\"  \\\n",
       "0                                                  0.647236                      \n",
       "1                                                  0.733005                      \n",
       "2                                                  1.169208                      \n",
       "3                                                  0.483202                      \n",
       "4                                                  1.103542                      \n",
       "\n",
       "variable  ...  dim_0__symmetry_looking__r_0.9500000000000001  \\\n",
       "0         ...                                            1.0   \n",
       "1         ...                                            1.0   \n",
       "2         ...                                            1.0   \n",
       "3         ...                                            1.0   \n",
       "4         ...                                            1.0   \n",
       "\n",
       "variable  dim_0__time_reversal_asymmetry_statistic__lag_1  \\\n",
       "0                                                0.049885   \n",
       "1                                                0.059773   \n",
       "2                                                0.072462   \n",
       "3                                                0.054177   \n",
       "4                                                0.080865   \n",
       "\n",
       "variable  dim_0__time_reversal_asymmetry_statistic__lag_2  \\\n",
       "0                                                0.008217   \n",
       "1                                               -0.007259   \n",
       "2                                                0.028787   \n",
       "3                                               -0.004676   \n",
       "4                                                0.025874   \n",
       "\n",
       "variable  dim_0__time_reversal_asymmetry_statistic__lag_3  \\\n",
       "0                                               -0.016709   \n",
       "1                                               -0.078893   \n",
       "2                                                0.005270   \n",
       "3                                               -0.045644   \n",
       "4                                               -0.004200   \n",
       "\n",
       "variable  dim_0__value_count__value_-1  dim_0__value_count__value_0  \\\n",
       "0                                  0.0                          0.0   \n",
       "1                                  0.0                          0.0   \n",
       "2                                  0.0                          0.0   \n",
       "3                                  0.0                          0.0   \n",
       "4                                  0.0                          0.0   \n",
       "\n",
       "variable  dim_0__value_count__value_1  dim_0__variance  \\\n",
       "0                                 0.0         0.996019   \n",
       "1                                 0.0         0.996021   \n",
       "2                                 0.0         0.996019   \n",
       "3                                 0.0         0.996014   \n",
       "4                                 0.0         0.996018   \n",
       "\n",
       "variable  dim_0__variance_larger_than_standard_deviation  \\\n",
       "0                                                    0.0   \n",
       "1                                                    0.0   \n",
       "2                                                    0.0   \n",
       "3                                                    0.0   \n",
       "4                                                    0.0   \n",
       "\n",
       "variable  dim_0__variation_coefficient  \n",
       "0                         1.926922e+07  \n",
       "1                        -4.053400e+05  \n",
       "2                         1.346774e+06  \n",
       "3                         5.009986e+06  \n",
       "4                         1.972439e+06  \n",
       "\n",
       "[5 rows x 757 columns]"
      ]
     },
     "execution_count": 6,
     "metadata": {},
     "output_type": "execute_result"
    }
   ],
   "source": [
    "# tf = TsFreshTransfomer()\n",
    "t = TSFreshFeatureExtractor(default_fc_parameters=\"efficient\", show_warnings=False)\n",
    "Xt = t.fit_transform(X_train)\n",
    "Xt.head()"
   ]
  },
  {
   "cell_type": "markdown",
   "metadata": {},
   "source": [
    "## Using tsfresh with sktime"
   ]
  },
  {
   "cell_type": "code",
   "execution_count": 7,
   "metadata": {},
   "outputs": [
    {
     "name": "stderr",
     "output_type": "stream",
     "text": [
      "/Users/travis/build/alan-turing-institute/sktime/sktime/transformers/series_as_features/summarize/_tsfresh.py:150: UserWarning: Found non-unique index, replaced with unique index.\n",
      "  warn(\"Found non-unique index, replaced with unique index.\")\n"
     ]
    },
    {
     "name": "stderr",
     "output_type": "stream",
     "text": [
      "\r",
      "Feature Extraction:   0%|          | 0/5 [00:00<?, ?it/s]"
     ]
    },
    {
     "name": "stderr",
     "output_type": "stream",
     "text": [
      "\r",
      "Feature Extraction:  20%|██        | 1/5 [00:05<00:20,  5.17s/it]"
     ]
    },
    {
     "name": "stderr",
     "output_type": "stream",
     "text": [
      "\r",
      "Feature Extraction:  40%|████      | 2/5 [00:10<00:16,  5.35s/it]"
     ]
    },
    {
     "name": "stderr",
     "output_type": "stream",
     "text": [
      "\r",
      "Feature Extraction:  60%|██████    | 3/5 [00:15<00:10,  5.11s/it]"
     ]
    },
    {
     "name": "stderr",
     "output_type": "stream",
     "text": [
      "\r",
      "Feature Extraction:  80%|████████  | 4/5 [00:19<00:04,  4.92s/it]"
     ]
    },
    {
     "name": "stderr",
     "output_type": "stream",
     "text": [
      "\r",
      "Feature Extraction: 100%|██████████| 5/5 [00:24<00:00,  4.72s/it]"
     ]
    },
    {
     "name": "stderr",
     "output_type": "stream",
     "text": [
      "\r",
      "Feature Extraction: 100%|██████████| 5/5 [00:24<00:00,  4.84s/it]"
     ]
    },
    {
     "name": "stderr",
     "output_type": "stream",
     "text": [
      "\n"
     ]
    },
    {
     "name": "stderr",
     "output_type": "stream",
     "text": [
      "/Users/travis/build/alan-turing-institute/sktime/sktime/transformers/series_as_features/summarize/_tsfresh.py:150: UserWarning: Found non-unique index, replaced with unique index.\n",
      "  warn(\"Found non-unique index, replaced with unique index.\")\n"
     ]
    },
    {
     "name": "stderr",
     "output_type": "stream",
     "text": [
      "\r",
      "Feature Extraction:   0%|          | 0/5 [00:00<?, ?it/s]"
     ]
    },
    {
     "name": "stderr",
     "output_type": "stream",
     "text": [
      "\r",
      "Feature Extraction:  20%|██        | 1/5 [00:01<00:06,  1.64s/it]"
     ]
    },
    {
     "name": "stderr",
     "output_type": "stream",
     "text": [
      "\r",
      "Feature Extraction:  40%|████      | 2/5 [00:03<00:04,  1.62s/it]"
     ]
    },
    {
     "name": "stderr",
     "output_type": "stream",
     "text": [
      "\r",
      "Feature Extraction:  60%|██████    | 3/5 [00:04<00:03,  1.61s/it]"
     ]
    },
    {
     "name": "stderr",
     "output_type": "stream",
     "text": [
      "\r",
      "Feature Extraction:  80%|████████  | 4/5 [00:06<00:01,  1.59s/it]"
     ]
    },
    {
     "name": "stderr",
     "output_type": "stream",
     "text": [
      "\r",
      "Feature Extraction: 100%|██████████| 5/5 [00:07<00:00,  1.50s/it]"
     ]
    },
    {
     "name": "stderr",
     "output_type": "stream",
     "text": [
      "\r",
      "Feature Extraction: 100%|██████████| 5/5 [00:07<00:00,  1.52s/it]"
     ]
    },
    {
     "name": "stderr",
     "output_type": "stream",
     "text": [
      "\n"
     ]
    },
    {
     "data": {
      "text/plain": [
       "0.8301886792452831"
      ]
     },
     "execution_count": 7,
     "metadata": {},
     "output_type": "execute_result"
    }
   ],
   "source": [
    "classifier = make_pipeline(\n",
    "    TSFreshFeatureExtractor(default_fc_parameters=\"efficient\", show_warnings=False),\n",
    "    RandomForestClassifier()\n",
    ")\n",
    "classifier.fit(X_train, y_train)\n",
    "classifier.score(X_test, y_test)"
   ]
  },
  {
   "cell_type": "markdown",
   "metadata": {},
   "source": [
    "## Multivariate time series classification data"
   ]
  },
  {
   "cell_type": "code",
   "execution_count": 8,
   "metadata": {
    "scrolled": true
   },
   "outputs": [
    {
     "name": "stdout",
     "output_type": "stream",
     "text": [
      "(60, 6) (60,) (20, 6) (20,)\n"
     ]
    }
   ],
   "source": [
    "X, y = load_basic_motions(return_X_y=True)\n",
    "X_train, X_test, y_train, y_test = train_test_split(X, y)\n",
    "print(X_train.shape, y_train.shape, X_test.shape, y_test.shape)"
   ]
  },
  {
   "cell_type": "code",
   "execution_count": 9,
   "metadata": {
    "jupyter": {
     "outputs_hidden": false
    },
    "pycharm": {
     "name": "#%%\n"
    }
   },
   "outputs": [
    {
     "data": {
      "text/html": [
       "<div>\n",
       "<style scoped>\n",
       "    .dataframe tbody tr th:only-of-type {\n",
       "        vertical-align: middle;\n",
       "    }\n",
       "\n",
       "    .dataframe tbody tr th {\n",
       "        vertical-align: top;\n",
       "    }\n",
       "\n",
       "    .dataframe thead th {\n",
       "        text-align: right;\n",
       "    }\n",
       "</style>\n",
       "<table border=\"1\" class=\"dataframe\">\n",
       "  <thead>\n",
       "    <tr style=\"text-align: right;\">\n",
       "      <th></th>\n",
       "      <th>dim_0</th>\n",
       "      <th>dim_1</th>\n",
       "      <th>dim_2</th>\n",
       "      <th>dim_3</th>\n",
       "      <th>dim_4</th>\n",
       "      <th>dim_5</th>\n",
       "    </tr>\n",
       "  </thead>\n",
       "  <tbody>\n",
       "    <tr>\n",
       "      <th>35</th>\n",
       "      <td>0    -0.040961\n",
       "1    -0.040961\n",
       "2     0.338414\n",
       "3...</td>\n",
       "      <td>0    -0.971100\n",
       "1    -0.971100\n",
       "2    -3.420216\n",
       "3...</td>\n",
       "      <td>0     0.203560\n",
       "1     0.203560\n",
       "2    -2.053446\n",
       "3...</td>\n",
       "      <td>0     0.061258\n",
       "1     0.061258\n",
       "2     0.250357\n",
       "3...</td>\n",
       "      <td>0    -0.047941\n",
       "1    -0.047941\n",
       "2    -0.639209\n",
       "3...</td>\n",
       "      <td>0     0.961478\n",
       "1     0.961478\n",
       "2    -0.298298\n",
       "3...</td>\n",
       "    </tr>\n",
       "    <tr>\n",
       "      <th>14</th>\n",
       "      <td>0     -0.947424\n",
       "1     -0.947424\n",
       "2     14.53912...</td>\n",
       "      <td>0      0.572681\n",
       "1      0.572681\n",
       "2    -10.32130...</td>\n",
       "      <td>0    -0.529822\n",
       "1    -0.529822\n",
       "2    -4.144042\n",
       "3...</td>\n",
       "      <td>0    -0.098545\n",
       "1    -0.098545\n",
       "2     2.138688\n",
       "3...</td>\n",
       "      <td>0     0.596595\n",
       "1     0.596595\n",
       "2    -1.259775\n",
       "3...</td>\n",
       "      <td>0      0.772378\n",
       "1      0.772378\n",
       "2      7.21774...</td>\n",
       "    </tr>\n",
       "    <tr>\n",
       "      <th>9</th>\n",
       "      <td>0     0.126160\n",
       "1     0.126160\n",
       "2     1.771871\n",
       "3...</td>\n",
       "      <td>0     0.102733\n",
       "1     0.102733\n",
       "2    -3.798484\n",
       "3...</td>\n",
       "      <td>0     0.308964\n",
       "1     0.308964\n",
       "2     0.141369\n",
       "3...</td>\n",
       "      <td>0     0.002663\n",
       "1     0.002663\n",
       "2    -1.427568\n",
       "3...</td>\n",
       "      <td>0     0.000000\n",
       "1     0.000000\n",
       "2    -0.167792\n",
       "3...</td>\n",
       "      <td>0    -0.007990\n",
       "1    -0.007990\n",
       "2    -1.643301\n",
       "3...</td>\n",
       "    </tr>\n",
       "    <tr>\n",
       "      <th>17</th>\n",
       "      <td>0      3.789469\n",
       "1      3.789469\n",
       "2      1.78594...</td>\n",
       "      <td>0     -1.353556\n",
       "1     -1.353556\n",
       "2    -10.69460...</td>\n",
       "      <td>0    -0.685072\n",
       "1    -0.685072\n",
       "2    -4.465480\n",
       "3...</td>\n",
       "      <td>0    -0.021307\n",
       "1    -0.021307\n",
       "2     2.753927\n",
       "3...</td>\n",
       "      <td>0    -0.159802\n",
       "1    -0.159802\n",
       "2    -0.820319\n",
       "3...</td>\n",
       "      <td>0     0.133169\n",
       "1     0.133169\n",
       "2     2.974987\n",
       "3...</td>\n",
       "    </tr>\n",
       "    <tr>\n",
       "      <th>21</th>\n",
       "      <td>0    -0.171905\n",
       "1    -0.171905\n",
       "2    -0.397472\n",
       "3...</td>\n",
       "      <td>0     0.206276\n",
       "1     0.206276\n",
       "2    -3.217950\n",
       "3...</td>\n",
       "      <td>0    -0.308410\n",
       "1    -0.308410\n",
       "2    -0.035401\n",
       "3...</td>\n",
       "      <td>0    -0.189099\n",
       "1    -0.189099\n",
       "2     0.857606\n",
       "3...</td>\n",
       "      <td>0     0.079901\n",
       "1     0.079901\n",
       "2     0.135832\n",
       "3...</td>\n",
       "      <td>0     0.055931\n",
       "1     0.055931\n",
       "2     0.391516\n",
       "3...</td>\n",
       "    </tr>\n",
       "  </tbody>\n",
       "</table>\n",
       "</div>"
      ],
      "text/plain": [
       "                                                dim_0  \\\n",
       "35  0    -0.040961\n",
       "1    -0.040961\n",
       "2     0.338414\n",
       "3...   \n",
       "14  0     -0.947424\n",
       "1     -0.947424\n",
       "2     14.53912...   \n",
       "9   0     0.126160\n",
       "1     0.126160\n",
       "2     1.771871\n",
       "3...   \n",
       "17  0      3.789469\n",
       "1      3.789469\n",
       "2      1.78594...   \n",
       "21  0    -0.171905\n",
       "1    -0.171905\n",
       "2    -0.397472\n",
       "3...   \n",
       "\n",
       "                                                dim_1  \\\n",
       "35  0    -0.971100\n",
       "1    -0.971100\n",
       "2    -3.420216\n",
       "3...   \n",
       "14  0      0.572681\n",
       "1      0.572681\n",
       "2    -10.32130...   \n",
       "9   0     0.102733\n",
       "1     0.102733\n",
       "2    -3.798484\n",
       "3...   \n",
       "17  0     -1.353556\n",
       "1     -1.353556\n",
       "2    -10.69460...   \n",
       "21  0     0.206276\n",
       "1     0.206276\n",
       "2    -3.217950\n",
       "3...   \n",
       "\n",
       "                                                dim_2  \\\n",
       "35  0     0.203560\n",
       "1     0.203560\n",
       "2    -2.053446\n",
       "3...   \n",
       "14  0    -0.529822\n",
       "1    -0.529822\n",
       "2    -4.144042\n",
       "3...   \n",
       "9   0     0.308964\n",
       "1     0.308964\n",
       "2     0.141369\n",
       "3...   \n",
       "17  0    -0.685072\n",
       "1    -0.685072\n",
       "2    -4.465480\n",
       "3...   \n",
       "21  0    -0.308410\n",
       "1    -0.308410\n",
       "2    -0.035401\n",
       "3...   \n",
       "\n",
       "                                                dim_3  \\\n",
       "35  0     0.061258\n",
       "1     0.061258\n",
       "2     0.250357\n",
       "3...   \n",
       "14  0    -0.098545\n",
       "1    -0.098545\n",
       "2     2.138688\n",
       "3...   \n",
       "9   0     0.002663\n",
       "1     0.002663\n",
       "2    -1.427568\n",
       "3...   \n",
       "17  0    -0.021307\n",
       "1    -0.021307\n",
       "2     2.753927\n",
       "3...   \n",
       "21  0    -0.189099\n",
       "1    -0.189099\n",
       "2     0.857606\n",
       "3...   \n",
       "\n",
       "                                                dim_4  \\\n",
       "35  0    -0.047941\n",
       "1    -0.047941\n",
       "2    -0.639209\n",
       "3...   \n",
       "14  0     0.596595\n",
       "1     0.596595\n",
       "2    -1.259775\n",
       "3...   \n",
       "9   0     0.000000\n",
       "1     0.000000\n",
       "2    -0.167792\n",
       "3...   \n",
       "17  0    -0.159802\n",
       "1    -0.159802\n",
       "2    -0.820319\n",
       "3...   \n",
       "21  0     0.079901\n",
       "1     0.079901\n",
       "2     0.135832\n",
       "3...   \n",
       "\n",
       "                                                dim_5  \n",
       "35  0     0.961478\n",
       "1     0.961478\n",
       "2    -0.298298\n",
       "3...  \n",
       "14  0      0.772378\n",
       "1      0.772378\n",
       "2      7.21774...  \n",
       "9   0    -0.007990\n",
       "1    -0.007990\n",
       "2    -1.643301\n",
       "3...  \n",
       "17  0     0.133169\n",
       "1     0.133169\n",
       "2     2.974987\n",
       "3...  \n",
       "21  0     0.055931\n",
       "1     0.055931\n",
       "2     0.391516\n",
       "3...  "
      ]
     },
     "execution_count": 9,
     "metadata": {},
     "output_type": "execute_result"
    }
   ],
   "source": [
    "# multivariate input data\n",
    "X_train.head()"
   ]
  },
  {
   "cell_type": "code",
   "execution_count": 10,
   "metadata": {
    "scrolled": true
   },
   "outputs": [
    {
     "name": "stderr",
     "output_type": "stream",
     "text": [
      "/Users/travis/build/alan-turing-institute/sktime/sktime/transformers/series_as_features/summarize/_tsfresh.py:150: UserWarning: Found non-unique index, replaced with unique index.\n",
      "  warn(\"Found non-unique index, replaced with unique index.\")\n"
     ]
    },
    {
     "name": "stderr",
     "output_type": "stream",
     "text": [
      "\r",
      "Feature Extraction:   0%|          | 0/5 [00:00<?, ?it/s]"
     ]
    },
    {
     "name": "stderr",
     "output_type": "stream",
     "text": [
      "\r",
      "Feature Extraction:  20%|██        | 1/5 [00:08<00:32,  8.10s/it]"
     ]
    },
    {
     "name": "stderr",
     "output_type": "stream",
     "text": [
      "\r",
      "Feature Extraction:  40%|████      | 2/5 [00:16<00:24,  8.06s/it]"
     ]
    },
    {
     "name": "stderr",
     "output_type": "stream",
     "text": [
      "\r",
      "Feature Extraction:  60%|██████    | 3/5 [00:23<00:16,  8.01s/it]"
     ]
    },
    {
     "name": "stderr",
     "output_type": "stream",
     "text": [
      "\r",
      "Feature Extraction:  80%|████████  | 4/5 [00:31<00:07,  7.99s/it]"
     ]
    },
    {
     "name": "stderr",
     "output_type": "stream",
     "text": [
      "\r",
      "Feature Extraction: 100%|██████████| 5/5 [00:39<00:00,  8.00s/it]"
     ]
    },
    {
     "name": "stderr",
     "output_type": "stream",
     "text": [
      "\r",
      "Feature Extraction: 100%|██████████| 5/5 [00:39<00:00,  7.99s/it]"
     ]
    },
    {
     "name": "stderr",
     "output_type": "stream",
     "text": [
      "\n"
     ]
    },
    {
     "data": {
      "text/html": [
       "<div>\n",
       "<style scoped>\n",
       "    .dataframe tbody tr th:only-of-type {\n",
       "        vertical-align: middle;\n",
       "    }\n",
       "\n",
       "    .dataframe tbody tr th {\n",
       "        vertical-align: top;\n",
       "    }\n",
       "\n",
       "    .dataframe thead th {\n",
       "        text-align: right;\n",
       "    }\n",
       "</style>\n",
       "<table border=\"1\" class=\"dataframe\">\n",
       "  <thead>\n",
       "    <tr style=\"text-align: right;\">\n",
       "      <th>variable</th>\n",
       "      <th>dim_0__abs_energy</th>\n",
       "      <th>dim_0__absolute_sum_of_changes</th>\n",
       "      <th>dim_0__agg_autocorrelation__f_agg_\"mean\"__maxlag_40</th>\n",
       "      <th>dim_0__agg_autocorrelation__f_agg_\"median\"__maxlag_40</th>\n",
       "      <th>dim_0__agg_autocorrelation__f_agg_\"var\"__maxlag_40</th>\n",
       "      <th>dim_0__agg_linear_trend__attr_\"intercept\"__chunk_len_10__f_agg_\"max\"</th>\n",
       "      <th>dim_0__agg_linear_trend__attr_\"intercept\"__chunk_len_10__f_agg_\"mean\"</th>\n",
       "      <th>dim_0__agg_linear_trend__attr_\"intercept\"__chunk_len_10__f_agg_\"min\"</th>\n",
       "      <th>dim_0__agg_linear_trend__attr_\"intercept\"__chunk_len_10__f_agg_\"var\"</th>\n",
       "      <th>dim_0__agg_linear_trend__attr_\"intercept\"__chunk_len_50__f_agg_\"max\"</th>\n",
       "      <th>...</th>\n",
       "      <th>dim_5__symmetry_looking__r_0.9500000000000001</th>\n",
       "      <th>dim_5__time_reversal_asymmetry_statistic__lag_1</th>\n",
       "      <th>dim_5__time_reversal_asymmetry_statistic__lag_2</th>\n",
       "      <th>dim_5__time_reversal_asymmetry_statistic__lag_3</th>\n",
       "      <th>dim_5__value_count__value_-1</th>\n",
       "      <th>dim_5__value_count__value_0</th>\n",
       "      <th>dim_5__value_count__value_1</th>\n",
       "      <th>dim_5__variance</th>\n",
       "      <th>dim_5__variance_larger_than_standard_deviation</th>\n",
       "      <th>dim_5__variation_coefficient</th>\n",
       "    </tr>\n",
       "  </thead>\n",
       "  <tbody>\n",
       "    <tr>\n",
       "      <th>0</th>\n",
       "      <td>6681.979256</td>\n",
       "      <td>441.093167</td>\n",
       "      <td>-0.003917</td>\n",
       "      <td>-0.024874</td>\n",
       "      <td>0.021016</td>\n",
       "      <td>18.693258</td>\n",
       "      <td>6.340561</td>\n",
       "      <td>0.353609</td>\n",
       "      <td>41.466413</td>\n",
       "      <td>29.321178</td>\n",
       "      <td>...</td>\n",
       "      <td>1.0</td>\n",
       "      <td>-28.438658</td>\n",
       "      <td>3.340718</td>\n",
       "      <td>15.100302</td>\n",
       "      <td>0.0</td>\n",
       "      <td>0.0</td>\n",
       "      <td>0.0</td>\n",
       "      <td>12.710682</td>\n",
       "      <td>1.0</td>\n",
       "      <td>31.065326</td>\n",
       "    </tr>\n",
       "    <tr>\n",
       "      <th>1</th>\n",
       "      <td>13000.226236</td>\n",
       "      <td>666.891287</td>\n",
       "      <td>-0.003739</td>\n",
       "      <td>-0.119334</td>\n",
       "      <td>0.176492</td>\n",
       "      <td>16.052055</td>\n",
       "      <td>6.681353</td>\n",
       "      <td>-11.369580</td>\n",
       "      <td>90.618584</td>\n",
       "      <td>18.696740</td>\n",
       "      <td>...</td>\n",
       "      <td>1.0</td>\n",
       "      <td>6.731435</td>\n",
       "      <td>41.510330</td>\n",
       "      <td>58.555077</td>\n",
       "      <td>0.0</td>\n",
       "      <td>0.0</td>\n",
       "      <td>0.0</td>\n",
       "      <td>29.820847</td>\n",
       "      <td>1.0</td>\n",
       "      <td>-30.090259</td>\n",
       "    </tr>\n",
       "    <tr>\n",
       "      <th>2</th>\n",
       "      <td>9.735453</td>\n",
       "      <td>15.202450</td>\n",
       "      <td>-0.011942</td>\n",
       "      <td>-0.006515</td>\n",
       "      <td>0.005243</td>\n",
       "      <td>0.542816</td>\n",
       "      <td>-0.133406</td>\n",
       "      <td>-0.447754</td>\n",
       "      <td>0.122703</td>\n",
       "      <td>1.771871</td>\n",
       "      <td>...</td>\n",
       "      <td>1.0</td>\n",
       "      <td>-0.007607</td>\n",
       "      <td>-0.014420</td>\n",
       "      <td>-0.010061</td>\n",
       "      <td>0.0</td>\n",
       "      <td>0.0</td>\n",
       "      <td>0.0</td>\n",
       "      <td>0.123327</td>\n",
       "      <td>0.0</td>\n",
       "      <td>57.578839</td>\n",
       "    </tr>\n",
       "    <tr>\n",
       "      <th>3</th>\n",
       "      <td>14668.442452</td>\n",
       "      <td>852.384132</td>\n",
       "      <td>-0.019733</td>\n",
       "      <td>-0.067975</td>\n",
       "      <td>0.140029</td>\n",
       "      <td>18.527246</td>\n",
       "      <td>4.206907</td>\n",
       "      <td>-17.096802</td>\n",
       "      <td>154.651004</td>\n",
       "      <td>20.673780</td>\n",
       "      <td>...</td>\n",
       "      <td>1.0</td>\n",
       "      <td>15.053465</td>\n",
       "      <td>48.867108</td>\n",
       "      <td>70.182013</td>\n",
       "      <td>0.0</td>\n",
       "      <td>0.0</td>\n",
       "      <td>0.0</td>\n",
       "      <td>26.184878</td>\n",
       "      <td>1.0</td>\n",
       "      <td>149.517043</td>\n",
       "    </tr>\n",
       "    <tr>\n",
       "      <th>4</th>\n",
       "      <td>535.495127</td>\n",
       "      <td>135.580907</td>\n",
       "      <td>-0.027563</td>\n",
       "      <td>-0.045144</td>\n",
       "      <td>0.078813</td>\n",
       "      <td>4.071817</td>\n",
       "      <td>1.703098</td>\n",
       "      <td>-0.768076</td>\n",
       "      <td>2.699804</td>\n",
       "      <td>5.046151</td>\n",
       "      <td>...</td>\n",
       "      <td>1.0</td>\n",
       "      <td>0.196546</td>\n",
       "      <td>-0.351586</td>\n",
       "      <td>0.113937</td>\n",
       "      <td>0.0</td>\n",
       "      <td>0.0</td>\n",
       "      <td>0.0</td>\n",
       "      <td>3.208048</td>\n",
       "      <td>1.0</td>\n",
       "      <td>59.407542</td>\n",
       "    </tr>\n",
       "  </tbody>\n",
       "</table>\n",
       "<p>5 rows × 4542 columns</p>\n",
       "</div>"
      ],
      "text/plain": [
       "variable  dim_0__abs_energy  dim_0__absolute_sum_of_changes  \\\n",
       "0               6681.979256                      441.093167   \n",
       "1              13000.226236                      666.891287   \n",
       "2                  9.735453                       15.202450   \n",
       "3              14668.442452                      852.384132   \n",
       "4                535.495127                      135.580907   \n",
       "\n",
       "variable  dim_0__agg_autocorrelation__f_agg_\"mean\"__maxlag_40  \\\n",
       "0                                                 -0.003917     \n",
       "1                                                 -0.003739     \n",
       "2                                                 -0.011942     \n",
       "3                                                 -0.019733     \n",
       "4                                                 -0.027563     \n",
       "\n",
       "variable  dim_0__agg_autocorrelation__f_agg_\"median\"__maxlag_40  \\\n",
       "0                                                 -0.024874       \n",
       "1                                                 -0.119334       \n",
       "2                                                 -0.006515       \n",
       "3                                                 -0.067975       \n",
       "4                                                 -0.045144       \n",
       "\n",
       "variable  dim_0__agg_autocorrelation__f_agg_\"var\"__maxlag_40  \\\n",
       "0                                                  0.021016    \n",
       "1                                                  0.176492    \n",
       "2                                                  0.005243    \n",
       "3                                                  0.140029    \n",
       "4                                                  0.078813    \n",
       "\n",
       "variable  dim_0__agg_linear_trend__attr_\"intercept\"__chunk_len_10__f_agg_\"max\"  \\\n",
       "0                                                 18.693258                      \n",
       "1                                                 16.052055                      \n",
       "2                                                  0.542816                      \n",
       "3                                                 18.527246                      \n",
       "4                                                  4.071817                      \n",
       "\n",
       "variable  dim_0__agg_linear_trend__attr_\"intercept\"__chunk_len_10__f_agg_\"mean\"  \\\n",
       "0                                                  6.340561                       \n",
       "1                                                  6.681353                       \n",
       "2                                                 -0.133406                       \n",
       "3                                                  4.206907                       \n",
       "4                                                  1.703098                       \n",
       "\n",
       "variable  dim_0__agg_linear_trend__attr_\"intercept\"__chunk_len_10__f_agg_\"min\"  \\\n",
       "0                                                  0.353609                      \n",
       "1                                                -11.369580                      \n",
       "2                                                 -0.447754                      \n",
       "3                                                -17.096802                      \n",
       "4                                                 -0.768076                      \n",
       "\n",
       "variable  dim_0__agg_linear_trend__attr_\"intercept\"__chunk_len_10__f_agg_\"var\"  \\\n",
       "0                                                 41.466413                      \n",
       "1                                                 90.618584                      \n",
       "2                                                  0.122703                      \n",
       "3                                                154.651004                      \n",
       "4                                                  2.699804                      \n",
       "\n",
       "variable  dim_0__agg_linear_trend__attr_\"intercept\"__chunk_len_50__f_agg_\"max\"  \\\n",
       "0                                                 29.321178                      \n",
       "1                                                 18.696740                      \n",
       "2                                                  1.771871                      \n",
       "3                                                 20.673780                      \n",
       "4                                                  5.046151                      \n",
       "\n",
       "variable  ...  dim_5__symmetry_looking__r_0.9500000000000001  \\\n",
       "0         ...                                            1.0   \n",
       "1         ...                                            1.0   \n",
       "2         ...                                            1.0   \n",
       "3         ...                                            1.0   \n",
       "4         ...                                            1.0   \n",
       "\n",
       "variable  dim_5__time_reversal_asymmetry_statistic__lag_1  \\\n",
       "0                                              -28.438658   \n",
       "1                                                6.731435   \n",
       "2                                               -0.007607   \n",
       "3                                               15.053465   \n",
       "4                                                0.196546   \n",
       "\n",
       "variable  dim_5__time_reversal_asymmetry_statistic__lag_2  \\\n",
       "0                                                3.340718   \n",
       "1                                               41.510330   \n",
       "2                                               -0.014420   \n",
       "3                                               48.867108   \n",
       "4                                               -0.351586   \n",
       "\n",
       "variable  dim_5__time_reversal_asymmetry_statistic__lag_3  \\\n",
       "0                                               15.100302   \n",
       "1                                               58.555077   \n",
       "2                                               -0.010061   \n",
       "3                                               70.182013   \n",
       "4                                                0.113937   \n",
       "\n",
       "variable  dim_5__value_count__value_-1  dim_5__value_count__value_0  \\\n",
       "0                                  0.0                          0.0   \n",
       "1                                  0.0                          0.0   \n",
       "2                                  0.0                          0.0   \n",
       "3                                  0.0                          0.0   \n",
       "4                                  0.0                          0.0   \n",
       "\n",
       "variable  dim_5__value_count__value_1  dim_5__variance  \\\n",
       "0                                 0.0        12.710682   \n",
       "1                                 0.0        29.820847   \n",
       "2                                 0.0         0.123327   \n",
       "3                                 0.0        26.184878   \n",
       "4                                 0.0         3.208048   \n",
       "\n",
       "variable  dim_5__variance_larger_than_standard_deviation  \\\n",
       "0                                                    1.0   \n",
       "1                                                    1.0   \n",
       "2                                                    0.0   \n",
       "3                                                    1.0   \n",
       "4                                                    1.0   \n",
       "\n",
       "variable  dim_5__variation_coefficient  \n",
       "0                            31.065326  \n",
       "1                           -30.090259  \n",
       "2                            57.578839  \n",
       "3                           149.517043  \n",
       "4                            59.407542  \n",
       "\n",
       "[5 rows x 4542 columns]"
      ]
     },
     "execution_count": 10,
     "metadata": {},
     "output_type": "execute_result"
    }
   ],
   "source": [
    "t = TSFreshFeatureExtractor(default_fc_parameters=\"efficient\", show_warnings=False)\n",
    "Xt = t.fit_transform(X_train)\n",
    "Xt.head()"
   ]
  }
 ],
 "metadata": {
  "kernelspec": {
   "display_name": "Python 3",
   "language": "python",
   "name": "python3"
  },
  "language_info": {
   "codemirror_mode": {
    "name": "ipython",
    "version": 3
   },
   "file_extension": ".py",
   "mimetype": "text/x-python",
   "name": "python",
   "nbconvert_exporter": "python",
   "pygments_lexer": "ipython3",
   "version": "3.7.7"
  }
 },
 "nbformat": 4,
 "nbformat_minor": 4
}
